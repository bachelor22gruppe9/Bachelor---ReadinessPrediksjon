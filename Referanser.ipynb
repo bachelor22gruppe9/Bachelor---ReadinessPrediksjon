{
 "cells": [
  {
   "cell_type": "markdown",
   "id": "e9099eff",
   "metadata": {
    "pycharm": {
     "name": "#%% md\n"
    }
   },
   "source": [
    "# Referanser\n",
    "## Random Forest\n",
    "https://www.cienciadedatos.net/documentos/py27-time-series-forecasting-python-scikitlearn.html\n",
    "\n",
    "https://joaquinamatrodrigo.github.io/skforecast/api/ForecasterAutoreg.html\n",
    "\n",
    "https://joaquinamatrodrigo.github.io/skforecast/api/ForecasterAutoregCustom.html\n",
    "\n",
    "https://scikit-learn.org/stable/modules/generated/sklearn.ensemble.RandomForestRegressor.html\n",
    "\n",
    "\n",
    "## ARIMA\n",
    "https://www.projectpro.io/article/how-to-build-arima-model-in-python/544\n",
    "\n",
    "https://neptune.ai/blog/arima-sarima-real-world-time-series-forecasting-guide\n",
    "\n",
    "https://medium.com/p/bb83e49210cd\n",
    "\n",
    "https://machinelearningmastery.com/time-series-data-stationary-python/\n",
    "\n",
    "https://www.machinelearningplus.com/time-series/augmented-dickey-fuller-test/\n",
    "\n",
    "https://medium.com/@cmukesh8688/why-is-augmented-dickey-fuller-test-adf-test-so-important-in-time-series-analysis-6fc97c6be2f0\n",
    "\n",
    "https://medium.com/analytics-vidhya/time-series-forecasting-sarima-vs-auto-arima-models-f95e76d71d8f\n",
    "\n",
    "https://www.machinelearningplus.com/time-series/arima-model-time-series-forecasting-python/\n",
    "\n",
    "\n",
    "## LSTM\n",
    "https://towardsdatascience.com/lstm-time-series-forecasting-predicting-stock-prices-using-an-lstm-model-6223e9644a2f\n",
    "\n",
    "## Dummy Modell\n",
    "\n",
    "https://www.geeksforgeeks.org/dummy-regressor/\n",
    "\n",
    "https://scikit-learn.org/stable/modules/generated/sklearn.dummy.DummyRegressor.html\n",
    "\n",
    "\n",
    "## Injury Prediction - Logistic Regression\n",
    "\n",
    "https://alancouzens.com/blog/injury_prediction2.html\n",
    "\n",
    "## CNN\n",
    "https://machinelearningmastery.com/how-to-develop-convolutional-neural-network-models-for-time-series-forecasting/\n",
    "\n"
   ]
  }
 ],
 "metadata": {
  "kernelspec": {
   "display_name": "Python 3",
   "language": "python",
   "name": "python3"
  },
  "language_info": {
   "codemirror_mode": {
    "name": "ipython",
    "version": 3
   },
   "file_extension": ".py",
   "mimetype": "text/x-python",
   "name": "python",
   "nbconvert_exporter": "python",
   "pygments_lexer": "ipython3",
   "version": "3.8.8"
  }
 },
 "nbformat": 4,
 "nbformat_minor": 5
}